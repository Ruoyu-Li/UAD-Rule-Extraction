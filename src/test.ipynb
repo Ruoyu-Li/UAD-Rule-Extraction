{
 "cells": [
  {
   "cell_type": "code",
   "execution_count": 1,
   "metadata": {},
   "outputs": [
    {
     "name": "stderr",
     "output_type": "stream",
     "text": [
      "/home/lry/anaconda3/envs/pytorchgpu/lib/python3.9/site-packages/tqdm/auto.py:21: TqdmWarning: IProgress not found. Please update jupyter and ipywidgets. See https://ipywidgets.readthedocs.io/en/stable/user_install.html\n",
      "  from .autonotebook import tqdm as notebook_tqdm\n"
     ]
    }
   ],
   "source": [
    "import numpy as np\n",
    "from sklearn.ensemble import IsolationForest as IForest\n",
    "from sklearn.cluster import DBSCAN, KMeans\n",
    "from sklearn.metrics import confusion_matrix, accuracy_score, precision_score, recall_score, f1_score\n",
    "import pickle\n",
    "import torch\n",
    "import torch.nn as nn\n",
    "from global_var import *\n",
    "from normalize import *\n",
    "from utils import *\n",
    "from data_load import load_data\n",
    "from AE import AutoEncoder\n",
    "from VAE import VAE\n",
    "import ExtBound\n",
    "import KITree\n",
    "import importlib"
   ]
  },
  {
   "cell_type": "code",
   "execution_count": 2,
   "metadata": {},
   "outputs": [
    {
     "data": {
      "text/plain": [
       "<module 'KITree' from './src/KITree.py'>"
      ]
     },
     "execution_count": 2,
     "metadata": {},
     "output_type": "execute_result"
    }
   ],
   "source": [
    "importlib.reload(KITree)"
   ]
  },
  {
   "cell_type": "code",
   "execution_count": 3,
   "metadata": {},
   "outputs": [],
   "source": [
    "dataset = 'cicids_custom'\n",
    "subset = 'Tuesday'\n",
    "\n",
    "dataset = 'toniot_custom'\n",
    "subset = 'ddos'"
   ]
  },
  {
   "cell_type": "code",
   "execution_count": 4,
   "metadata": {},
   "outputs": [
    {
     "name": "stdout",
     "output_type": "stream",
     "text": [
      "3050 67046\n"
     ]
    }
   ],
   "source": [
    "X, _, y, _ = load_data(dataset, subset, mode='train')\n",
    "X = X[y == 0]\n",
    "y = y[y == 0]\n",
    "X_test, y_test = load_data(dataset, subset, mode='test')\n",
    "print(X.shape[0], X_test.shape[0])"
   ]
  },
  {
   "cell_type": "code",
   "execution_count": 5,
   "metadata": {},
   "outputs": [],
   "source": [
    "def print_metrics(y_true, y_pred, y_model):\n",
    "    prec, rec, f1 = precision_score(y_true, y_pred), recall_score(y_true, y_pred), f1_score(y_true, y_pred)\n",
    "    fid = (y_pred == y_model).sum() / y_pred.shape[0]\n",
    "    tpr = TP(y_true, y_pred) / (y_true == 1).sum()\n",
    "    tnr = TN(y_true, y_pred) / (y_true == 0).sum()\n",
    "    print('prec:', prec, 'rec:', rec, 'f1:', f1, 'tpr', tpr, 'tnr', tnr, 'fid:', fid)\n",
    "    return prec, rec, f1, tpr, tnr, fid"
   ]
  },
  {
   "cell_type": "code",
   "execution_count": 6,
   "metadata": {},
   "outputs": [],
   "source": [
    "with open(os.path.join(TARGET_MODEL_DIR, f'IForest_{dataset}_{subset}.model'), 'rb') as f:\n",
    "    model_SVM = pickle.load(f)\n",
    "with open(os.path.join(NORMALIZER_DIR, f'{dataset}_{subset}.norm'), 'rb') as f:\n",
    "    normalizer_SVM = pickle.load(f)\n",
    "X_SVM = normalizer_SVM.transform(X)\n",
    "X_test_SVM = normalizer_SVM.transform(X_test)"
   ]
  },
  {
   "cell_type": "code",
   "execution_count": 7,
   "metadata": {},
   "outputs": [
    {
     "data": {
      "text/plain": [
       "0.5921891293109696"
      ]
     },
     "execution_count": 7,
     "metadata": {},
     "output_type": "execute_result"
    }
   ],
   "source": [
    "score_SVM = -model_SVM.score_samples(X_SVM)\n",
    "thres_SVM = -model_SVM.offset_\n",
    "func_SVM = lambda x: -model_SVM.score_samples(x)\n",
    "thres_SVM"
   ]
  },
  {
   "cell_type": "code",
   "execution_count": 8,
   "metadata": {},
   "outputs": [],
   "source": [
    "kdt_SVM = KITree.KITree(func_SVM, thres_SVM)\n",
    "kdt_SVM.fit(X_SVM, score_SVM)"
   ]
  },
  {
   "cell_type": "code",
   "execution_count": 9,
   "metadata": {},
   "outputs": [
    {
     "name": "stdout",
     "output_type": "stream",
     "text": [
      "1.0 0.0260950605778192\n"
     ]
    }
   ],
   "source": [
    "y_pred = kdt_SVM.predict(X_test_SVM)\n",
    "print(TP(y_test, y_pred) / (y_test == 1).sum(), FP(y_test, y_pred) / (y_test == 0).sum())"
   ]
  },
  {
   "cell_type": "code",
   "execution_count": 10,
   "metadata": {},
   "outputs": [
    {
     "name": "stdout",
     "output_type": "stream",
     "text": [
      "prec: 0.9995757640035757 rec: 1.0 f1: 0.9997878369981967 tpr 1.0 tnr 0.9739049394221808 fid: 0.987948572621782\n"
     ]
    },
    {
     "data": {
      "text/plain": [
       "(0.9995757640035757,\n",
       " 1.0,\n",
       " 0.9997878369981967,\n",
       " 1.0,\n",
       " 0.9739049394221808,\n",
       " 0.987948572621782)"
      ]
     },
     "execution_count": 10,
     "metadata": {},
     "output_type": "execute_result"
    }
   ],
   "source": [
    "y_model = model_SVM.predict(X_test_SVM)\n",
    "y_model[y_model == 1] = 0\n",
    "y_model[y_model == -1] = 1\n",
    "print_metrics(y_test, y_pred, y_model)"
   ]
  },
  {
   "cell_type": "code",
   "execution_count": 11,
   "metadata": {},
   "outputs": [],
   "source": [
    "output_rules = kdt_SVM.get_rules(CUSTOM_FEAT_COLS, normalizer_SVM)"
   ]
  },
  {
   "cell_type": "code",
   "execution_count": 12,
   "metadata": {},
   "outputs": [],
   "source": [
    "pred_subrules, predict_rules = kdt_SVM.predict_rule_out(X_test_SVM[y_test == 1][5], normalizer_SVM, CUSTOM_FEAT_COLS)"
   ]
  },
  {
   "cell_type": "code",
   "execution_count": 13,
   "metadata": {},
   "outputs": [],
   "source": [
    "import re\n",
    "def extract_thresholds_from_rules1(pred_rules):\n",
    "    rules_info = []\n",
    "\n",
    "    for line in pred_rules:\n",
    "        match = re.match(r\"dim (\\d+) feat (\\w+) (exceed upper bound|under lower bound): ([\\d.]+)\\s*(<|<=|>|>=)\\s*([\\d.]+)\", line)\n",
    "\n",
    "        if match:\n",
    "            feature_id = int(match.group(1))\n",
    "            feature_name = match.group(2)\n",
    "            comparison_type = match.group(3)\n",
    "            threshold = float(match.group(6))\n",
    "            value = float(match.group(4))\n",
    "            comparison = match.group(5)\n",
    "\n",
    "            if comparison_type == \"exceed upper bound\":\n",
    "                if comparison == \"<\":\n",
    "                    comparison = \">=\"\n",
    "            else:\n",
    "                if comparison == \">\":\n",
    "                    comparison = \"<=\"\n",
    "\n",
    "            rule_info = {\n",
    "                \"feature_id\": feature_id,\n",
    "                \"feature_name\": feature_name,\n",
    "                \"comparison\": comparison,\n",
    "                \"value\": value,\n",
    "                \"threshold\": threshold,\n",
    "            }\n",
    "\n",
    "            rules_info.append(rule_info)\n",
    "\n",
    "    # 使用集合来删除重复项\n",
    "    unique_rules_info = list({(info['feature_id'], info['feature_name'], info['comparison'], info['value'], info['threshold']): info for info in rules_info}.values())\n",
    "\n",
    "    return unique_rules_info\n",
    "\n",
    "rules_info = extract_thresholds_from_rules1(predict_rules)"
   ]
  },
  {
   "cell_type": "code",
   "execution_count": 14,
   "metadata": {},
   "outputs": [],
   "source": [
    "predict_rules = kdt_SVM.predict_rule_out(X_test_SVM[y_test == 1][5], normalizer_SVM, CUSTOM_FEAT_COLS)\n",
    "score_SVM = -model_SVM.score_samples(X_test_SVM)"
   ]
  },
  {
   "cell_type": "code",
   "execution_count": 15,
   "metadata": {},
   "outputs": [
    {
     "name": "stdout",
     "output_type": "stream",
     "text": [
      "predict_rules =  ([{'feature_id': 18, 'feature_name': 'iat_var', 'comparison': '<=', 'value': -0.24304923318287636, 'threshold': 0.05657056090172502}, {'feature_id': 6, 'feature_name': 'ps_var', 'comparison': '>', 'value': 0.22347521606881068, 'threshold': 107714.33238059204}, {'feature_id': 0, 'feature_name': 'count', 'comparison': '<=', 'value': -4.8778439499444, 'threshold': 423.6839344262295}], [{'feature_id': 0, 'feature_name': 'count', 'comparison': '<', 'value': 14.0, 'threshold': 45.09155100846954}, {'feature_id': 1, 'feature_name': 'fwd_count', 'comparison': '<', 'value': 7.999999999999972, 'threshold': 23.921834027812025}, {'feature_id': 2, 'feature_name': 'bwd_count', 'comparison': '<', 'value': 6.000000000000028, 'threshold': 17.109522699931233}, {'feature_id': 3, 'feature_name': 'ps_mean', 'comparison': '<', 'value': 199.42857142857144, 'threshold': 17.109522699931233}, {'feature_id': 4, 'feature_name': 'ps_max', 'comparison': '<', 'value': 1406.0, 'threshold': 1454.6083901378363}, {'feature_id': 5, 'feature_name': 'ps_min', 'comparison': '<', 'value': 52.0, 'threshold': 1454.6083901378363}, {'feature_id': 6, 'feature_name': 'ps_var', 'comparison': '<', 'value': 116948.67346938777, 'threshold': 1454.6083901378363}, {'feature_id': 7, 'feature_name': 'ps_fwd_mean', 'comparison': '<', 'value': 107.75, 'threshold': 1454.6083901378363}, {'feature_id': 8, 'feature_name': 'ps_fwd_max', 'comparison': '<', 'value': 238.0, 'threshold': 1454.6083901378363}, {'feature_id': 9, 'feature_name': 'ps_fwd_min', 'comparison': '<', 'value': 52.0, 'threshold': 1454.6083901378363}, {'feature_id': 10, 'feature_name': 'ps_fwd_var', 'comparison': '<', 'value': 5209.4375, 'threshold': 1454.6083901378363}, {'feature_id': 11, 'feature_name': 'ps_bwd_mean', 'comparison': '<', 'value': 321.6666666666667, 'threshold': 1454.6083901378363}, {'feature_id': 12, 'feature_name': 'ps_bwd_max', 'comparison': '<', 'value': 1406.0, 'threshold': 1454.6083901378363}, {'feature_id': 13, 'feature_name': 'ps_bwd_min', 'comparison': '<', 'value': 52.0, 'threshold': 1454.6083901378363}, {'feature_id': 14, 'feature_name': 'ps_bwd_var', 'comparison': '>=', 'value': 239785.5555555555, 'threshold': 234452.6714795191}, {'feature_id': 15, 'feature_name': 'iat_mean', 'comparison': '<', 'value': 0.026596546173095703, 'threshold': 0.10878393638170991}, {'feature_id': 16, 'feature_name': 'iat_max', 'comparison': '<', 'value': 0.17421507835388184, 'threshold': 0.4401824616496504}, {'feature_id': 17, 'feature_name': 'iat_min', 'comparison': '<', 'value': 2.1457672119140625e-06, 'threshold': 0.4401824616496504}, {'feature_id': 18, 'feature_name': 'iat_var', 'comparison': '<', 'value': 0.002195547901840997, 'threshold': 0.011889093138380775}, {'feature_id': 19, 'feature_name': 'iat_fwd_mean', 'comparison': '<', 'value': 0.0493935857500348, 'threshold': 0.20943320850147923}, {'feature_id': 20, 'feature_name': 'iat_fwd_max', 'comparison': '<', 'value': 0.17421507835388195, 'threshold': 0.48737514403619275}, {'feature_id': 21, 'feature_name': 'iat_fwd_min', 'comparison': '<', 'value': 1.2159347534179688e-05, 'threshold': 0.48737514403619275}, {'feature_id': 22, 'feature_name': 'iat_fwd_var', 'comparison': '<', 'value': 0.0030188100387203015, 'threshold': 0.007230773849001934}, {'feature_id': 23, 'feature_name': 'iat_bwd_mean', 'comparison': '<', 'value': 0.0550925731658935, 'threshold': 0.23663230769476928}, {'feature_id': 24, 'feature_name': 'iat_bwd_max', 'comparison': '<', 'value': 0.1776108741760254, 'threshold': 0.5338568363491506}, {'feature_id': 25, 'feature_name': 'iat_bwd_min', 'comparison': '<', 'value': 0.00017380714416499998, 'threshold': 0.5338568363491506}, {'feature_id': 26, 'feature_name': 'iat_bwd_var', 'comparison': '<', 'value': 0.004069556002673294, 'threshold': 0.5338568363491506}, {'feature_id': 27, 'feature_name': 'dur', 'comparison': '<', 'value': 0.34575510025023704, 'threshold': 6.189228174988543}, {'feature_id': 28, 'feature_name': 'l4_proto', 'comparison': '<', 'value': 6.0, 'threshold': 6.189228174988543}, {'feature_id': 29, 'feature_name': 'service_port', 'comparison': '<', 'value': 443.0, 'threshold': 1882.8272976359629}])\n",
      "predict_rules =  <class 'tuple'>\n",
      "predict_rules =  2\n"
     ]
    },
    {
     "ename": "TypeError",
     "evalue": "list indices must be integers or slices, not str",
     "output_type": "error",
     "traceback": [
      "\u001b[0;31m---------------------------------------------------------------------------\u001b[0m",
      "\u001b[0;31mTypeError\u001b[0m                                 Traceback (most recent call last)",
      "Cell \u001b[0;32mIn[15], line 4\u001b[0m\n\u001b[1;32m      2\u001b[0m \u001b[39mprint\u001b[39m(\u001b[39m'\u001b[39m\u001b[39mpredict_rules = \u001b[39m\u001b[39m'\u001b[39m, \u001b[39mtype\u001b[39m(predict_rules))\n\u001b[1;32m      3\u001b[0m \u001b[39mprint\u001b[39m(\u001b[39m'\u001b[39m\u001b[39mpredict_rules = \u001b[39m\u001b[39m'\u001b[39m, \u001b[39mlen\u001b[39m(predict_rules))\n\u001b[0;32m----> 4\u001b[0m permutation_feature_importance \u001b[39m=\u001b[39m kdt_SVM\u001b[39m.\u001b[39;49mpermutation_feature_importance_with_rules( pre_model\u001b[39m=\u001b[39;49mmodel_SVM, x \u001b[39m=\u001b[39;49m X_test_SVM[y_test \u001b[39m==\u001b[39;49m \u001b[39m1\u001b[39;49m][\u001b[39m5\u001b[39;49m], rules \u001b[39m=\u001b[39;49m predict_rules)\n\u001b[1;32m      5\u001b[0m \u001b[39mprint\u001b[39m(\u001b[39m\"\u001b[39m\u001b[39mpermutation_feature_importance.len  =  \u001b[39m\u001b[39m\"\u001b[39m, \u001b[39mlen\u001b[39m(permutation_feature_importance))\n\u001b[1;32m      6\u001b[0m \u001b[39mfor\u001b[39;00m key \u001b[39min\u001b[39;00m permutation_feature_importance\u001b[39m.\u001b[39mkeys():\n",
      "File \u001b[0;32m~/pythondata/venv/lry/src/KITree.py:444\u001b[0m, in \u001b[0;36mKITree.permutation_feature_importance_with_rules\u001b[0;34m(self, pre_model, x, rules)\u001b[0m\n\u001b[1;32m    441\u001b[0m permutation_importances \u001b[39m=\u001b[39m np\u001b[39m.\u001b[39mzeros(num_features)\n\u001b[1;32m    443\u001b[0m \u001b[39mfor\u001b[39;00m rule \u001b[39min\u001b[39;00m rules:\n\u001b[0;32m--> 444\u001b[0m     feature_id \u001b[39m=\u001b[39m rule[\u001b[39m'\u001b[39;49m\u001b[39mfeature_id\u001b[39;49m\u001b[39m'\u001b[39;49m]\n\u001b[1;32m    445\u001b[0m     feature_value \u001b[39m=\u001b[39m rule[\u001b[39m'\u001b[39m\u001b[39mvalue\u001b[39m\u001b[39m'\u001b[39m]\n\u001b[1;32m    446\u001b[0m     feature_threshold \u001b[39m=\u001b[39m rule[\u001b[39m'\u001b[39m\u001b[39mthreshold\u001b[39m\u001b[39m'\u001b[39m]\n",
      "\u001b[0;31mTypeError\u001b[0m: list indices must be integers or slices, not str"
     ]
    }
   ],
   "source": [
    "print('predict_rules = ', predict_rules)\n",
    "print('predict_rules = ', type(predict_rules))\n",
    "print('predict_rules = ', len(predict_rules))\n",
    "permutation_feature_importance = kdt_SVM.permutation_feature_importance_with_rules( pre_model=model_SVM, x = X_test_SVM[y_test == 1][5], rules = predict_rules)\n",
    "print(\"permutation_feature_importance.len  =  \", len(permutation_feature_importance))\n",
    "for key in permutation_feature_importance.keys():\n",
    "    print(key, \":\", permutation_feature_importance[key])"
   ]
  },
  {
   "cell_type": "code",
   "execution_count": null,
   "metadata": {},
   "outputs": [
    {
     "data": {
      "image/png": "[encoded data removed]",
      "text/plain": [
       "<Figure size 1000x600 with 1 Axes>"
      ]
     },
     "metadata": {},
     "output_type": "display_data"
    }
   ],
   "source": [
    "feature_names = list(permutation_feature_importance.keys())\n",
    "importance_values = list(permutation_feature_importance.values())\n",
    "\n",
    "plot_feature_importances(importance_values, feature_names, 'Permutation Feature Importance —— toniot_custom  ——  ddos')"
   ]
  },
  {
   "cell_type": "code",
   "execution_count": null,
   "metadata": {},
   "outputs": [
    {
     "name": "stdout",
     "output_type": "stream",
     "text": [
      "3050 67046\n",
      "prec: 0.9995757640035757 rec: 1.0 f1: 0.9997878369981967 tpr 1.0 tnr 0.9739049394221808 fid: 0.987948572621782\n",
      " ==================== predicted_labels distribution ==================== \n",
      "Class distribution:\n",
      "Class 1: 97.24%\n",
      "Class 0: 2.76%\n",
      " ==================== Evaluate the predictions ==================== \n",
      "Confusion matrix:\n",
      "[[ 1056    17]\n",
      " [  795 65178]]\n",
      "TP :  0.9879496157518985\n",
      "FP :  0.015843429636533086\n",
      "TN :  0.9841565703634669\n",
      "FN :  0.012050384248101497\n",
      "Accuracy: 0.9878889120902067\n",
      "Precision: [0.57050243 0.99973924]\n",
      "Recall: [0.98415657 0.98794962]\n",
      "F1 Score: [0.72229822 0.99380947]\n"
     ]
    }
   ],
   "source": [
    "X_test, y_test = load_data(dataset, subset, mode='test')\n",
    "print(X.shape[0], X_test.shape[0])\n",
    "\n",
    "with open(os.path.join(NORMALIZER_DIR, f'{dataset}_{subset}.norm'), 'rb') as f:\n",
    "    normalizer = pickle.load(f)\n",
    "\n",
    "X_test = delete_feature(X_test, permutation_feature_importance.keys())\n",
    "\n",
    "X_test = normalizer.transform(X_test.astype(int))\n",
    "\n",
    "y_model = model_SVM.predict(X_test_SVM)\n",
    "y_model[y_model == 1] = 0\n",
    "y_model[y_model == -1] = 1\n",
    "print_metrics(y_test, y_pred, y_model)\n",
    "\n",
    "print(\" ==================== predicted_labels distribution ==================== \")\n",
    "print_class_distribution(y_model)\n",
    "\n",
    "# Evaluate the predictions\n",
    "print(\" ==================== Evaluate the predictions ==================== \")\n",
    "evaluate_predictions(y_test, y_model)"
   ]
  },
  {
   "cell_type": "code",
   "execution_count": null,
   "metadata": {},
   "outputs": [],
   "source": [
    "def eval_features(X_test, y_test, model, normalizer, permutation_feature_importance):\n",
    "    X_test_N = normalizer.transform(X_test)\n",
    "    pred_X_test = model.predict(X_test_N)\n",
    "\n",
    "    X_test = delete_feature(X_test, permutation_feature_importance.keys())\n",
    "    X_test_N = normalizer.transform(X_test)\n",
    "    pred_X_test_N = model.predict(X_test_N)\n",
    "\n",
    "    num = 0\n",
    "    for i in range(len(pred_X_test)):\n",
    "        if pred_X_test[i] != pred_X_test_N[i]:\n",
    "            num += 1\n",
    "\n",
    "        if pred_X_test[i] == y_test[i] and  pred_X_test_N[i] != y_test[i]:\n",
    "            num += 1\n",
    "    return num / len(pred_X_test)"
   ]
  },
  {
   "cell_type": "code",
   "execution_count": 17,
   "metadata": {},
   "outputs": [
    {
     "name": "stdout",
     "output_type": "stream",
     "text": [
      "-> dim 18 feat iat_var <= 0.05657056090172502\n",
      " -> dim 6 feat ps_var > 107714.33238059204\n",
      "  -> dim 0 feat count <= 423.6839344262295\n",
      "   -> dim 0 feat count <= 423.6839344262295\n",
      "    -> dim 0 feat count <= 423.6839344262295\n",
      "dim 0 feat count under lower bound: 14.0 < 46.60539537940639\n",
      "dim 1 feat fwd_count under lower bound: 7.999999999999972 < 21.635677027600593\n",
      "dim 2 feat bwd_count under lower bound: 6.000000000000028 < 16.713292835334926\n",
      "dim 4 feat ps_max under lower bound: 1406.0 < 1478.1040334444822\n",
      "dim 14 feat ps_bwd_var exceed upper bound: 239785.5555555555 >= 232274.31895350013\n",
      "dim 15 feat iat_mean under lower bound: 0.026596546173095703 < 0.11058490305297983\n",
      "dim 16 feat iat_max under lower bound: 0.17421507835388184 < 0.5037286326063704\n",
      "dim 18 feat iat_var under lower bound: 0.002195547901840997 < 0.012776599261069714\n",
      "dim 19 feat iat_fwd_mean under lower bound: 0.0493935857500348 < 0.1708889005797481\n",
      "dim 20 feat iat_fwd_max under lower bound: 0.17421507835388195 < 0.5566998907706531\n",
      "dim 23 feat iat_bwd_mean under lower bound: 0.0550925731658935 < 0.2414873385798264\n",
      "dim 24 feat iat_bwd_max under lower bound: 0.1776108741760254 < 0.5651335562625979\n",
      "dim 27 feat dur under lower bound: 0.34575510025023704 < 5.916411206063941\n",
      "dim 29 feat service_port under lower bound: 443.0 < 1882.889667434695\n"
     ]
    }
   ],
   "source": [
    "kdt_SVM.predict_rule(X_test_SVM[y_test == 1][5], normalizer_SVM, CUSTOM_FEAT_COLS)"
   ]
  },
  {
   "cell_type": "code",
   "execution_count": 100,
   "metadata": {},
   "outputs": [],
   "source": [
    "# null + EBE\n",
    "def null_EBE(func, thres, X_train, score, X_test, y_test, y_model):\n",
    "    ext = ExtBound.ExtBound(func, thres)\n",
    "    ext.fit(X_train, score)\n",
    "    ext.set_bound()\n",
    "    y_pred = np.zeros(y_test.shape)\n",
    "    for i, x in enumerate(X_test):\n",
    "        y_pred[i] = ext.predict_sample(x)\n",
    "    print('null + EBE:')\n",
    "    print_metrics(y_test, y_pred, y_model)"
   ]
  },
  {
   "cell_type": "code",
   "execution_count": 146,
   "metadata": {},
   "outputs": [],
   "source": [
    "# KMeans + EBE\n",
    "def KMeans_EBE(func, thres, X_train, score, X_test, y_test, y_model):\n",
    "    cluster = KMeans(n_clusters=3)\n",
    "    y_cluster = cluster.fit_predict(X_train)\n",
    "    ext_list = []\n",
    "    for i in set(y_cluster):\n",
    "        ext = ExtBound.ExtBound(func, thres)\n",
    "        ext.fit(X_train, score)\n",
    "        ext.set_bound()\n",
    "        ext_list.append(ext)\n",
    "    y_pred = np.zeros(y_test.shape)\n",
    "    for i, x in enumerate(X_test):\n",
    "        y_pred[i] = ext.predict_sample(x)\n",
    "    print('KMeans + EBE:')\n",
    "    print_metrics(y_test, y_pred, y_model)"
   ]
  },
  {
   "cell_type": "code",
   "execution_count": 89,
   "metadata": {},
   "outputs": [],
   "source": [
    "class ICTree(KITree.KITree):\n",
    "    def fit(self, X, s, bound=None):\n",
    "        self.data = X\n",
    "        self.score = s\n",
    "        if type(bound) != np.ndarray:\n",
    "            self.bound = np.zeros((X.shape[1], 2))\n",
    "            self.bound[:, 0] = -np.inf\n",
    "            self.bound[:, 1] = np.inf\n",
    "        else:\n",
    "            self.bound = bound\n",
    "        if self.require_split():\n",
    "            self.score_norm = self.normalize_score(s)\n",
    "            # self.cal_label()\n",
    "            # matrix size: feature size * (sample size - 1)\n",
    "            criterion_matrix = np.zeros((self.data.shape[1], self.data.shape[0] - 1))\n",
    "            thres_matrix = np.zeros((self.data.shape[1], self.data.shape[0] - 1))\n",
    "            # iterate and find feature_id and thres that give maximum criterion\n",
    "            for i in range(self.data.shape[1]):\n",
    "                sort_idx = np.argsort(self.data[:, i])\n",
    "                for j in range(sort_idx.shape[0] - 1):\n",
    "                    if self.data[sort_idx[j], i] == self.data[sort_idx[j+1], i]:\n",
    "                        thres_matrix[i, j] = self.data[sort_idx[j], i]\n",
    "                        criterion_matrix[i, j] = 0\n",
    "                    else:\n",
    "                        thres = int((self.data[sort_idx[j+1], i] + self.data[sort_idx[j], i]) / 2.)\n",
    "                        thres_matrix[i, j] = thres\n",
    "                        criterion_matrix[i, j] = self.cal_criterion(sort_idx, j)\n",
    "            max_idx = np.where(criterion_matrix == np.max(criterion_matrix))\n",
    "            self.feature_id = max_idx[0][0]\n",
    "            self.feat_thres = thres_matrix[max_idx[0][0], max_idx[1][0]]\n",
    "\n",
    "            # print('****** Now, the depth of kitree is = ', self.level, ' ****** ')\n",
    "\n",
    "            # split data and start recursion\n",
    "            left_idx = self.data[:, self.feature_id] <= self.feat_thres\n",
    "            right_idx = self.data[:, self.feature_id] > self.feat_thres\n",
    "            left_bound = self.update_bound(0)\n",
    "            right_bound = self.update_bound(1)\n",
    "\n",
    "            self.left = ICTree(self.func, self.func_thres, self.level + 1, n_beam=self.n_beam, rho=self.rho, eta=self.eta)\n",
    "            self.right = ICTree(self.func, self.func_thres, self.level + 1, n_beam=self.n_beam, rho=self.rho, eta=self.eta)\n",
    "            self.left.fit(self.data[left_idx], self.score[left_idx], left_bound)\n",
    "            self.right.fit(self.data[right_idx], self.score[right_idx], right_bound)\n",
    "\n",
    "        else:\n",
    "            if self.data.shape[0] == 0:\n",
    "                self.bound[:, 0] = np.inf\n",
    "                self.bound[:, 1] = -np.inf\n",
    "            else:\n",
    "                self.bound[:, 0] = np.min(self.data, axis=0)\n",
    "                self.bound[:, 1] = np.max(self.data, axis=0)\n",
    "\n",
    "    def predict(self, X):\n",
    "        y_pred = np.zeros(X.shape[0])\n",
    "        for i, x in enumerate(X):\n",
    "            curr = self\n",
    "            while curr.feature_id != None:\n",
    "                curr, _ = curr.next_node(x)\n",
    "            flag = 0\n",
    "            for k, x_dim in enumerate(x):\n",
    "                if self.bound[k, 0] <= x_dim <= self.bound[k, 1]:\n",
    "                    flag += 1\n",
    "            y_pred[i] = int(flag == x.shape[0])\n",
    "        return y_pred"
   ]
  },
  {
   "cell_type": "code",
   "execution_count": 98,
   "metadata": {},
   "outputs": [],
   "source": [
    "def ICTree_hypercube(func, thres, X_train, score, X_test, y_test, y_model):\n",
    "    KITree.KITree(func, thres)\n",
    "    ictree = ICTree(func, thres)\n",
    "    ictree.fit(X_train, score)\n",
    "    y_pred = ictree.predict(X_test)\n",
    "    print('ICTree + hypercube:')\n",
    "    print_metrics(y_test, y_pred, y_model)"
   ]
  },
  {
   "cell_type": "code",
   "execution_count": 129,
   "metadata": {},
   "outputs": [
    {
     "name": "stdout",
     "output_type": "stream",
     "text": [
      "null + EBE:\n",
      "prec: 0.9990019390897684 rec: 1.0 f1: 0.9995007203891528 tpr 1.0 tnr 0.9655511811023622 fid: 0.9969208577214347\n",
      "KMeans + EBE:\n",
      "prec: 0.9990019390897684 rec: 1.0 f1: 0.9995007203891528 tpr 1.0 tnr 0.9655511811023622 fid: 0.9969208577214347\n",
      "ICTree + hypercube:\n",
      "prec: 0.9718161391439429 rec: 1.0 f1: 0.9857066486592948 tpr 1.0 tnr 0.0 fid: 0.9699298177480651\n"
     ]
    }
   ],
   "source": [
    "null_EBE(func_SVM, thres_SVM, X_SVM, score_SVM, X_test_SVM, y_test, y_model)\n",
    "KMeans_EBE(func_SVM, thres_SVM, X_SVM, score_SVM, X_test_SVM, y_test, y_model)\n",
    "ICTree_hypercube(func_SVM, thres_SVM, X_SVM, score_SVM, X_test_SVM, y_test, y_model)"
   ]
  },
  {
   "cell_type": "code",
   "execution_count": 141,
   "metadata": {},
   "outputs": [],
   "source": [
    "ae = torch.load(os.path.join(TARGET_MODEL_DIR, f'AE_{dataset}_{subset}.model')).cuda(DEVICE)\n",
    "ae.eval()\n",
    "with open(os.path.join(NORMALIZER_DIR, f'{dataset}_{subset}.norm'), 'rb') as f:\n",
    "    normalizer_ae = pickle.load(f)\n",
    "thres_ae = ae.thres\n",
    "X_ae = normalizer_ae.transform(X)\n",
    "X_test_ae = normalizer_ae.transform(X_test)"
   ]
  },
  {
   "cell_type": "code",
   "execution_count": 142,
   "metadata": {},
   "outputs": [
    {
     "data": {
      "text/plain": [
       "1.4138606786727905"
      ]
     },
     "execution_count": 142,
     "metadata": {},
     "output_type": "execute_result"
    }
   ],
   "source": [
    "func_ae = lambda x: ae.score_samples(x)\n",
    "score_ae = func_ae(X_ae)\n",
    "thres_ae"
   ]
  },
  {
   "cell_type": "code",
   "execution_count": 143,
   "metadata": {},
   "outputs": [],
   "source": [
    "kdt_ae = KITree.KITree(func_ae, thres_ae)\n",
    "kdt_ae.fit(X_ae, score_ae)"
   ]
  },
  {
   "cell_type": "code",
   "execution_count": 144,
   "metadata": {},
   "outputs": [
    {
     "name": "stdout",
     "output_type": "stream",
     "text": [
      "prec: 0.9898595943837754 rec: 1.0 f1: 0.9949039592316739 tpr 1.0 tnr 0.974559686888454 fid: 0.9876404494382023\n"
     ]
    },
    {
     "data": {
      "text/plain": [
       "(0.9898595943837754,\n",
       " 1.0,\n",
       " 0.9949039592316739,\n",
       " 1.0,\n",
       " 0.974559686888454,\n",
       " 0.9876404494382023)"
      ]
     },
     "execution_count": 144,
     "metadata": {},
     "output_type": "execute_result"
    }
   ],
   "source": [
    "y_pred = kdt_ae.predict(X_test_ae)\n",
    "y_model = ae.predict(X_test_ae)\n",
    "print_metrics(y_test, y_pred, y_model)"
   ]
  },
  {
   "cell_type": "code",
   "execution_count": 147,
   "metadata": {},
   "outputs": [
    {
     "name": "stdout",
     "output_type": "stream",
     "text": [
      "null + EBE:\n",
      "prec: 0.9968553459119497 rec: 0.9992119779353822 f1: 0.9980322707595435 tpr 0.9992119779353822 tnr 0.9921722113502935 fid: 0.9932584269662922\n",
      "KMeans + EBE:\n",
      "prec: 0.9968553459119497 rec: 0.9992119779353822 f1: 0.9980322707595435 tpr 0.9992119779353822 tnr 0.9921722113502935 fid: 0.9932584269662922\n",
      "ICTree + hypercube:\n",
      "prec: 0.7129213483146067 rec: 1.0 f1: 0.8324040669071827 tpr 1.0 tnr 0.0 fid: 0.7078651685393258\n"
     ]
    }
   ],
   "source": [
    "null_EBE(func_ae, thres_ae, X_ae, score_ae, X_test_ae, y_test, y_model)\n",
    "KMeans_EBE(func_ae, thres_ae, X_ae, score_ae, X_test_ae, y_test, y_model)\n",
    "ICTree_hypercube(func_ae, thres_ae, X_ae, score_ae, X_test_ae, y_test, y_model)"
   ]
  },
  {
   "cell_type": "code",
   "execution_count": null,
   "metadata": {},
   "outputs": [],
   "source": [
    "datasets = {\n",
    "    'cicids_custom': [\n",
    "        'Tuesday',\n",
    "        'Wednesday',\n",
    "        'Thursday',\n",
    "        'Friday'\n",
    "    ],\n",
    "    'toniot_custom': [\n",
    "        'backdoor',\n",
    "        'ddos',\n",
    "        'dos',\n",
    "        'injection',\n",
    "        'mitm',\n",
    "        'password',\n",
    "        'runsomware',\n",
    "        'scanning',\n",
    "        'xss'\n",
    "    ]\n",
    "}\n",
    "\n",
    "for d in datasets:\n",
    "    for sub in datasets[d]:\n",
    "        print(f'using {d}-{sub}')\n",
    "        "
   ]
  },
  {
   "cell_type": "code",
   "execution_count": 5,
   "metadata": {},
   "outputs": [
    {
     "name": "stdout",
     "output_type": "stream",
     "text": [
      "[{'feature_id': 3, 'feature_name': 'ps_mean', 'comparison': '<=', 'threshold': 239.46641369800085}, {'feature_id': 3, 'feature_name': 'ps_mean', 'comparison': '<=', 'threshold': 239.46641369800085}, {'feature_id': 3, 'feature_name': 'ps_mean', 'comparison': '<=', 'threshold': 239.46641369800085}, {'feature_id': 3, 'feature_name': 'ps_mean', 'comparison': '<=', 'threshold': 239.46641369800085}, {'feature_id': 3, 'feature_name': 'ps_mean', 'comparison': '<=', 'threshold': 239.46641369800085}, {'feature_id': 3, 'feature_name': 'ps_mean', 'comparison': '<=', 'threshold': 239.46641369800085}, {'feature_id': 3, 'feature_name': 'ps_mean', 'comparison': '<=', 'threshold': 239.46641369800085}]\n"
     ]
    }
   ],
   "source": [
    "import re\n",
    "\n",
    "def extract_rules_info(output_str):\n",
    "    rules_info = []\n",
    "    output_lines = output_str.split(\"\\n\")\n",
    "    \n",
    "    for line in output_lines:\n",
    "        match = re.match(r\"dim (\\d+) feat ([\\w_]+) (<=|>) ([\\d.]+)\", line)\n",
    "        if match:\n",
    "            rule_info = {\n",
    "                \"feature_id\": int(match.group(1)),\n",
    "                \"feature_name\": match.group(2),\n",
    "                \"comparison\": match.group(3),\n",
    "                \"threshold\": float(match.group(4)),\n",
    "            }\n",
    "            rules_info.append(rule_info)\n",
    "    \n",
    "    # 使用集合来删除重复项\n",
    "    unique_rules_info = list({(info['feature_id'], info['feature_name'], info['comparison'], info['threshold']): info for info in rules_info}.values())\n",
    "    \n",
    "    return unique_rules_info\n",
    "    return rules_info\n",
    "\n",
    "\n",
    "output_str = \"\"\"\n",
    "dim 3 feat ps_mean <= 239.46641369800085\n",
    " -> dim 24 feat iat_bwd_max <= 0.4831280382761515\n",
    "  -> dim 7 feat ps_fwd_mean <= 291.7064124913988\n",
    "   -> dim 7 feat ps_fwd_mean <= 291.7064124913988\n",
    "    -> dim 7 feat ps_fwd_mean <= 291.7064124913988\n",
    "[[-1.97210174  1.14028537]\n",
    " [-2.01791897  1.83967944]\n",
    " [-1.83182628  0.65856102]\n",
    " [-0.860782   -0.14208559]\n",
    " [-1.17379485  0.07457588]\n",
    " [-1.20165066  0.82686241]\n",
    " [-0.62187437 -0.10615252]\n",
    " [-0.74247751 -0.29159982]\n",
    " [-0.86204362 -0.03553279]\n",
    " [-0.35935767  0.08661789]\n",
    " [-0.57977601 -0.32123124]\n",
    " [-1.26953438  1.55976055]\n",
    " [-1.08698466  1.23211487]\n",
    " [-0.6585662   0.50074368]\n",
    " [-1.02717689  1.57715796]\n",
    " [-0.32836024  0.13907737]\n",
    " [-0.64765922 -0.13742273]\n",
    " [-2.2311356   4.38703462]\n",
    " [-0.1549255   0.15517439]\n",
    " [-0.21959886  0.14136407]\n",
    " [-0.75971235 -0.12196989]\n",
    " [-0.53063679 10.95184005]\n",
    " [-0.15400513  0.07881692]\n",
    " [-0.36235436  0.20342641]\n",
    " [-0.68073824         inf]\n",
    " [-0.36359179 14.19781678]\n",
    " [-0.16042725  0.04682548]\n",
    " [-0.56471687  0.08272792]\n",
    " [-0.17580087 -0.02686325]\n",
    " [-0.65132762 -0.35003184]]\n",
    "dim 3 feat ps_mean <= 239.46641369800085\n",
    " -> dim 24 feat iat_bwd_max <= 0.4831280382761515\n",
    "  -> dim 7 feat ps_fwd_mean <= 291.7064124913988\n",
    "   -> dim 7 feat ps_fwd_mean <= 291.7064124913988\n",
    "    -> dim 7 feat ps_fwd_mean > 291.7064124913988\n",
    "[[-inf -inf]\n",
    " [-inf -inf]\n",
    " [-inf -inf]\n",
    " [-inf -inf]\n",
    " [-inf -inf]\n",
    " [-inf -inf]\n",
    " [-inf -inf]\n",
    " [-inf -inf]\n",
    " [-inf -inf]\n",
    " [-inf -inf]\n",
    " [-inf -inf]\n",
    " [-inf -inf]\n",
    " [-inf -inf]\n",
    " [-inf -inf]\n",
    " [-inf -inf]\n",
    " [-inf -inf]\n",
    " [-inf -inf]\n",
    " [-inf -inf]\n",
    " [-inf -inf]\n",
    " [-inf -inf]\n",
    " [-inf -inf]\n",
    " [-inf -inf]\n",
    " [-inf -inf]\n",
    " [-inf -inf]\n",
    " [-inf -inf]\n",
    " [-inf -inf]\n",
    " [-inf -inf]\n",
    " [-inf -inf]\n",
    " [-inf -inf]\n",
    " [-inf -inf]]\n",
    "dim 3 feat ps_mean <= 239.46641369800085\n",
    " -> dim 24 feat iat_bwd_max <= 0.4831280382761515\n",
    "  -> dim 7 feat ps_fwd_mean <= 291.7064124913988\n",
    "   -> dim 7 feat ps_fwd_mean > 291.7064124913988\n",
    "[[-inf -inf]\n",
    " [-inf -inf]\n",
    " [-inf -inf]\n",
    " [-inf -inf]\n",
    " [-inf -inf]\n",
    " [-inf -inf]\n",
    " [-inf -inf]\n",
    " [-inf -inf]\n",
    " [-inf -inf]\n",
    " [-inf -inf]\n",
    " [-inf -inf]\n",
    " [-inf -inf]\n",
    " [-inf -inf]\n",
    " [-inf -inf]\n",
    " [-inf -inf]\n",
    " [-inf -inf]\n",
    " [-inf -inf]\n",
    " [-inf -inf]\n",
    " [-inf -inf]\n",
    " [-inf -inf]\n",
    " [-inf -inf]\n",
    " [-inf -inf]\n",
    " [-inf -inf]\n",
    " [-inf -inf]\n",
    " [-inf -inf]\n",
    " [-inf -inf]\n",
    " [-inf -inf]\n",
    " [-inf -inf]\n",
    " [-inf -inf]\n",
    " [-inf -inf]]\n",
    "dim 3 feat ps_mean <= 239.46641369800085\n",
    " -> dim 24 feat iat_bwd_max <= 0.4831280382761515\n",
    "  -> dim 7 feat ps_fwd_mean > 291.7064124913988\n",
    "[[-inf -inf]\n",
    " [-inf -inf]\n",
    " [-inf -inf]\n",
    " [-inf -inf]\n",
    " [-inf -inf]\n",
    " [-inf -inf]\n",
    " [-inf -inf]\n",
    " [-inf -inf]\n",
    " [-inf -inf]\n",
    " [-inf -inf]\n",
    " [-inf -inf]\n",
    " [-inf -inf]\n",
    " [-inf -inf]\n",
    " [-inf -inf]\n",
    " [-inf -inf]\n",
    " [-inf -inf]\n",
    " [-inf -inf]\n",
    " [-inf -inf]\n",
    " [-inf -inf]\n",
    " [-inf -inf]\n",
    " [-inf -inf]\n",
    " [-inf -inf]\n",
    " [-inf -inf]\n",
    " [-inf -inf]\n",
    " [-inf -inf]\n",
    " [-inf -inf]\n",
    " [-inf -inf]\n",
    " [-inf -inf]\n",
    " [-inf -inf]\n",
    " [-inf -inf]]\n",
    "dim 3 feat ps_mean <= 239.46641369800085\n",
    " -> dim 24 feat iat_bwd_max > 0.4831280382761515\n",
    "  -> dim 15 feat iat_mean <= 0.012303562264015574\n",
    "[[-inf -inf]\n",
    " [-inf -inf]\n",
    " [-inf -inf]\n",
    " [-inf -inf]\n",
    " [-inf -inf]\n",
    " [-inf -inf]\n",
    " [-inf -inf]\n",
    " [-inf -inf]\n",
    " [-inf -inf]\n",
    " [-inf -inf]\n",
    " [-inf -inf]\n",
    " [-inf -inf]\n",
    " [-inf -inf]\n",
    " [-inf -inf]\n",
    " [-inf -inf]\n",
    " [-inf -inf]\n",
    " [-inf -inf]\n",
    " [-inf -inf]\n",
    " [-inf -inf]\n",
    " [-inf -inf]\n",
    " [-inf -inf]\n",
    " [-inf -inf]\n",
    " [-inf -inf]\n",
    " [-inf -inf]\n",
    " [-inf -inf]\n",
    " [-inf -inf]\n",
    " [-inf -inf]\n",
    " [-inf -inf]\n",
    " [-inf -inf]\n",
    " [-inf -inf]]\n",
    "dim 3 feat ps_mean <= 239.46641369800085\n",
    " -> dim 24 feat iat_bwd_max > 0.4831280382761515\n",
    "  -> dim 15 feat iat_mean > 0.012303562264015574\n",
    "   -> dim 15 feat iat_mean <= 0.012303562264015574\n",
    "[[-inf -inf]\n",
    " [-inf -inf]\n",
    " [-inf -inf]\n",
    " [-inf -inf]\n",
    " [-inf -inf]\n",
    " [-inf -inf]\n",
    " [-inf -inf]\n",
    " [-inf -inf]\n",
    " [-inf -inf]\n",
    " [-inf -inf]\n",
    " [-inf -inf]\n",
    " [-inf -inf]\n",
    " [-inf -inf]\n",
    " [-inf -inf]\n",
    " [-inf -inf]\n",
    " [-inf -inf]\n",
    " [-inf -inf]\n",
    " [-inf -inf]\n",
    " [-inf -inf]\n",
    " [-inf -inf]\n",
    " [-inf -inf]\n",
    " [-inf -inf]\n",
    " [-inf -inf]\n",
    " [-inf -inf]\n",
    " [-inf -inf]\n",
    " [-inf -inf]\n",
    " [-inf -inf]\n",
    " [-inf -inf]\n",
    " [-inf -inf]\n",
    " [-inf -inf]]\n",
    "dim 3 feat ps_mean <= 239.46641369800085\n",
    " -> dim 24 feat iat_bwd_max > 0.4831280382761515\n",
    "  -> dim 15 feat iat_mean > 0.012303562264015574\n",
    "   -> dim 15 feat iat_mean > 0.012303562264015574\n",
    "    -> dim 15 feat iat_mean <= 0.012303562264015574\n",
    "[[-inf -inf]\n",
    " [-inf -inf]\n",
    " [-inf -inf]\n",
    " [-inf -inf]\n",
    " [-inf -inf]\n",
    " [-inf -inf]\n",
    " [-inf -inf]\n",
    " [-inf -inf]\n",
    " [-inf -inf]\n",
    " [-inf -inf]\n",
    " [-inf -inf]\n",
    " [-inf -inf]\n",
    " [-inf -inf]\n",
    " [-inf -inf]\n",
    " [-inf -inf]\n",
    "\"\"\"\n",
    "rules_info = extract_rules_info(output_str)\n",
    "print(rules_info)"
   ]
  },
  {
   "cell_type": "code",
   "execution_count": 6,
   "metadata": {},
   "outputs": [
    {
     "name": "stdout",
     "output_type": "stream",
     "text": [
      "feature_id: 3\n",
      "feature_name: ps_mean\n",
      "comparison: <=\n",
      "threshold: 239.46641369800085\n",
      "\n",
      "feature_id: 3\n",
      "feature_name: ps_mean\n",
      "comparison: <=\n",
      "threshold: 239.46641369800085\n",
      "\n",
      "feature_id: 3\n",
      "feature_name: ps_mean\n",
      "comparison: <=\n",
      "threshold: 239.46641369800085\n",
      "\n",
      "feature_id: 3\n",
      "feature_name: ps_mean\n",
      "comparison: <=\n",
      "threshold: 239.46641369800085\n",
      "\n",
      "feature_id: 3\n",
      "feature_name: ps_mean\n",
      "comparison: <=\n",
      "threshold: 239.46641369800085\n",
      "\n",
      "feature_id: 3\n",
      "feature_name: ps_mean\n",
      "comparison: <=\n",
      "threshold: 239.46641369800085\n",
      "\n",
      "feature_id: 3\n",
      "feature_name: ps_mean\n",
      "comparison: <=\n",
      "threshold: 239.46641369800085\n",
      "\n"
     ]
    }
   ],
   "source": [
    "def print_rules_info(rules_info):\n",
    "    for rule in rules_info:\n",
    "        print(\"feature_id:\", rule[\"feature_id\"])\n",
    "        print(\"feature_name:\", rule[\"feature_name\"])\n",
    "        print(\"comparison:\", rule[\"comparison\"])\n",
    "        print(\"threshold:\", rule[\"threshold\"])\n",
    "        print()\n",
    "print_rules_info(rules_info)"
   ]
  }
 ],
 "metadata": {
  "kernelspec": {
   "display_name": "pytorchgpu",
   "language": "python",
   "name": "python3"
  },
  "language_info": {
   "codemirror_mode": {
    "name": "ipython",
    "version": 3
   },
   "file_extension": ".py",
   "mimetype": "text/x-python",
   "name": "python",
   "nbconvert_exporter": "python",
   "pygments_lexer": "ipython3",
   "version": "3.9.15"
  },
  "orig_nbformat": 4
 },
 "nbformat": 4,
 "nbformat_minor": 2
}
