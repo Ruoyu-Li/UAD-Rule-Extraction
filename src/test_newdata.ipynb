{
 "cells": [
  {
   "cell_type": "code",
   "execution_count": 1,
   "metadata": {},
   "outputs": [
    {
     "name": "stderr",
     "output_type": "stream",
     "text": [
      "/home/lry/anaconda3/envs/pytorchgpu/lib/python3.9/site-packages/tqdm/auto.py:21: TqdmWarning: IProgress not found. Please update jupyter and ipywidgets. See https://ipywidgets.readthedocs.io/en/stable/user_install.html\n",
      "  from .autonotebook import tqdm as notebook_tqdm\n"
     ]
    }
   ],
   "source": [
    "import numpy as np\n",
    "from sklearn.ensemble import IsolationForest as IForest\n",
    "from sklearn.cluster import DBSCAN, KMeans\n",
    "from sklearn.metrics import confusion_matrix, accuracy_score, precision_score, recall_score, f1_score\n",
    "import pickle\n",
    "import torch\n",
    "import torch.nn as nn\n",
    "from global_var import *\n",
    "from normalize import *\n",
    "from utils import *\n",
    "from data_load import load_data\n",
    "from AE import AutoEncoder\n",
    "from VAE import VAE\n",
    "import ExtBound\n",
    "import KITree\n",
    "import importlib\n",
    "import time"
   ]
  },
  {
   "cell_type": "code",
   "execution_count": 20,
   "metadata": {},
   "outputs": [],
   "source": [
    "dataset = 'cicids_improved'\n",
    "subset = 'Wednesday'"
   ]
  },
  {
   "cell_type": "code",
   "execution_count": 4,
   "metadata": {},
   "outputs": [
    {
     "data": {
      "text/plain": [
       "((85519, 40), (62811, 40), (62811, 40))"
      ]
     },
     "execution_count": 4,
     "metadata": {},
     "output_type": "execute_result"
    }
   ],
   "source": [
    "X_train, X_eval, y_train, y_testy_eval = load_data(dataset, subset, mode='train')\n",
    "X_test, y_test = load_data(dataset, subset, mode='test')\n",
    "with open(os.path.join(NORMALIZER_DIR, f'{dataset}_{subset}.norm'), 'rb') as f:\n",
    "    normalizer = pickle.load(f)\n",
    "X_train, X_eval = normalizer.transform(X_train), normalizer.transform(X_eval)\n",
    "X_test = normalizer.transform(X_test)\n",
    "X_train.shape, X_eval.shape, X_test.shape"
   ]
  },
  {
   "cell_type": "code",
   "execution_count": 9,
   "metadata": {},
   "outputs": [],
   "source": [
    "idx_rand = np.random.randint(0, X_train.shape[0], 5000)\n",
    "X_train, y_train = X_train[idx_rand], y_train[idx_rand]"
   ]
  },
  {
   "cell_type": "code",
   "execution_count": 11,
   "metadata": {},
   "outputs": [],
   "source": [
    "model_name = 'IForest'"
   ]
  },
  {
   "cell_type": "code",
   "execution_count": 12,
   "metadata": {},
   "outputs": [],
   "source": [
    "with open(os.path.join(TARGET_MODEL_DIR, f'{model_name}_{dataset}_{subset}.model'), 'rb') as f:\n",
    "    model = pickle.load(f)"
   ]
  },
  {
   "cell_type": "code",
   "execution_count": 13,
   "metadata": {},
   "outputs": [],
   "source": [
    "score = -model.score_samples(X_train)\n",
    "thres = -model.offset_\n",
    "func = lambda x: -model.score_samples(x)"
   ]
  },
  {
   "cell_type": "code",
   "execution_count": 14,
   "metadata": {},
   "outputs": [
    {
     "data": {
      "text/plain": [
       "1863.7503445148468"
      ]
     },
     "execution_count": 14,
     "metadata": {},
     "output_type": "execute_result"
    }
   ],
   "source": [
    "kdt = KITree.KITree(func, thres)\n",
    "start = time.time()\n",
    "kdt.fit(X_train, score)\n",
    "time.time() - start"
   ]
  },
  {
   "cell_type": "code",
   "execution_count": 16,
   "metadata": {},
   "outputs": [],
   "source": [
    "def print_metrics(y_true, y_pred, y_model):\n",
    "    prec, rec, f1 = precision_score(y_true, y_pred), recall_score(y_true, y_pred), f1_score(y_true, y_pred)\n",
    "    fid = (y_pred == y_model).sum() / y_pred.shape[0]\n",
    "    tpr = TP(y_true, y_pred) / (y_true == 1).sum()\n",
    "    tnr = TN(y_true, y_pred) / (y_true == 0).sum()\n",
    "    print('prec:', prec, 'rec:', rec, 'f1:', f1, 'tpr', tpr, 'tnr', tnr, 'fid:', fid)\n",
    "    return prec, rec, f1, tpr, tnr, fid"
   ]
  },
  {
   "cell_type": "code",
   "execution_count": 15,
   "metadata": {},
   "outputs": [
    {
     "name": "stdout",
     "output_type": "stream",
     "text": [
      "1.0 0.030717921713182376\n"
     ]
    }
   ],
   "source": [
    "y_pred = kdt.predict(X_test)\n",
    "print(TP(y_test, y_pred) / (y_test == 1).sum(), FP(y_test, y_pred) / (y_test == 0).sum())"
   ]
  },
  {
   "cell_type": "code",
   "execution_count": 18,
   "metadata": {},
   "outputs": [
    {
     "name": "stdout",
     "output_type": "stream",
     "text": [
      "prec: 0.9751427516263742 rec: 1.0 f1: 0.9874149610942511 tpr 1.0 tnr 0.9692820782868177 fid: 0.9928197290283549\n"
     ]
    },
    {
     "data": {
      "text/plain": [
       "(0.9751427516263742,\n",
       " 1.0,\n",
       " 0.9874149610942511,\n",
       " 1.0,\n",
       " 0.9692820782868177,\n",
       " 0.9928197290283549)"
      ]
     },
     "execution_count": 18,
     "metadata": {},
     "output_type": "execute_result"
    }
   ],
   "source": [
    "y_model = model.predict(X_test)\n",
    "y_model[y_model == 1] = 0\n",
    "y_model[y_model == -1] = 1\n",
    "print_metrics(y_test, y_pred, y_model)"
   ]
  },
  {
   "cell_type": "markdown",
   "metadata": {},
   "source": [
    "## Computational cost affected by dimension"
   ]
  },
  {
   "cell_type": "code",
   "execution_count": 21,
   "metadata": {},
   "outputs": [],
   "source": [
    "FPR_list = np.arange(0.02, 0.051, 0.002)\n",
    "\n",
    "def train_iforest(X_train, X_eval, y_eval):\n",
    "    best_model, best_score = None, 0\n",
    "    for FPR in FPR_list:\n",
    "        model = IForest(n_estimators=500, contamination=FPR, random_state=SEED)\n",
    "        model.fit(X_train)\n",
    "        y_pred = model.predict(X_eval)\n",
    "        y_pred[y_pred == 1] = 0\n",
    "        y_pred[y_pred == -1] = 1\n",
    "        score = f1_score(y_eval, y_pred)\n",
    "        if score > best_score:\n",
    "            best_model = model\n",
    "            best_score = score\n",
    "    return best_model"
   ]
  },
  {
   "cell_type": "code",
   "execution_count": null,
   "metadata": {},
   "outputs": [],
   "source": []
  }
 ],
 "metadata": {
  "kernelspec": {
   "display_name": "pytorchgpu",
   "language": "python",
   "name": "python3"
  },
  "language_info": {
   "codemirror_mode": {
    "name": "ipython",
    "version": 3
   },
   "file_extension": ".py",
   "mimetype": "text/x-python",
   "name": "python",
   "nbconvert_exporter": "python",
   "pygments_lexer": "ipython3",
   "version": "3.9.15"
  },
  "orig_nbformat": 4
 },
 "nbformat": 4,
 "nbformat_minor": 2
}
